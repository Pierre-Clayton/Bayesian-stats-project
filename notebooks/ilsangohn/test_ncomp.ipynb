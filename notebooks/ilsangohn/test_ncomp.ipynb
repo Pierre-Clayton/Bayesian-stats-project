{
 "cells": [
  {
   "cell_type": "code",
   "execution_count": null,
   "id": "a67a4a12-2294-4c43-87d2-aa13e511d6eb",
   "metadata": {},
   "outputs": [],
   "source": [
    "import numpy as np\n",
    "import math\n",
    "import matplotlib.pyplot as plt\n",
    "import pickle\n",
    "\n",
    "from DP import *\n",
    "from bayes import *                \n",
    "                \n",
    "\n",
    "n_save = 1000\n",
    "n_list = [50, 100, 250, 1000, 2500]\n",
    "\n",
    "k_list =[]\n",
    "k_list = np.zeros([4, len(n_list), n_save])\n",
    "\n",
    "for i, n in enumerate(n_list):\n",
    "    x =  np.random.choice([-3, 0, 3], size=n) + norm.rvs(size=n)        \n",
    "    _, _, k = bayesGM(x, interval=[-6,6], lam=10*np.exp(-0.2*np.log(n)**2/np.log(np.log(n))), kappa=1, n_save=n_save, n_burn=5000, n_thin=100)\n",
    "    k_list[0,i,:] = k\n",
    "    _, _, k = bayesGM(x, interval=[-6,6], lam=1, kappa=1, n_save=n_save, n_burn=5000, n_thin=100)\n",
    "    k_list[1,i,:] = k\n",
    "    _, k = DP(x, interval=[-6,6], kappa=20/n, n_save=n_save, n_burn=200, n_thin=5)\n",
    "    k_list[2,i,:] = k\n",
    "    _, k = DP(x, interval=[-6,6], kappa=0.4, n_save=n_save, n_burn=200, n_thin=5)\n",
    "    k_list[3,i,:] = k\n",
    "    \n",
    "## Plot\n",
    "markers=['^','o','s','D','*']\n",
    "methods = [\"bayes_\", \"dp_\"]\n",
    "hyperpars = [\"vary\", \"const\"]\n",
    "\n",
    "for a in range(4):\n",
    "    plt.figure() \n",
    "    for m in range(len(k_list[a])):\n",
    "        k = np.append(k_list[a,m,:], np.arange(10)+1 )\n",
    "        px, py = np.unique(k, return_counts=True)    \n",
    "        mark = markers[m]\n",
    "        plt.plot(px,py/1000, marker=mark, label='n= %s' % n_list[m]) \n",
    "    if a==0:\n",
    "        plt.legend()\n",
    "    plt.ylim(0, 1)\n",
    "    plt.xlabel(\"Number of components\")\n",
    "    plt.ylabel(\"Posterior probability\")\n",
    "    plt.savefig(\"ncomp_\"+methods[a//2]+hyperpars[a%2]+\".png\")\n"
   ]
  }
 ],
 "metadata": {
  "kernelspec": {
   "display_name": "Python 3 (ipykernel)",
   "language": "python",
   "name": "python3"
  },
  "language_info": {
   "codemirror_mode": {
    "name": "ipython",
    "version": 3
   },
   "file_extension": ".py",
   "mimetype": "text/x-python",
   "name": "python",
   "nbconvert_exporter": "python",
   "pygments_lexer": "ipython3",
   "version": "3.12.6"
  }
 },
 "nbformat": 4,
 "nbformat_minor": 5
}
